{
 "cells": [
  {
   "cell_type": "code",
   "execution_count": null,
   "id": "c690d059",
   "metadata": {},
   "outputs": [],
   "source": [
    "# Rapidly-exploring Random Trees\n",
    "\n",
    "import numpy as np\n",
    "import matplotlib.pyplot as plt"
   ]
  },
  {
   "cell_type": "code",
   "execution_count": null,
   "id": "ecdc4123",
   "metadata": {},
   "outputs": [],
   "source": [
    "# Free space\n",
    "x_min = 0\n",
    "x_max = 10\n",
    "y_min = 0\n",
    "y_max = 10\n",
    "\n",
    "# Source\n",
    "source = np.array([x_min, y_min])\n",
    "\n",
    "# Target\n",
    "target = np.array([x_max, y_max])\n",
    "target_radius = 1\n",
    "\n",
    "# List of axis-aligned rectangles [x_min, y_min], [x_max, y_max]\n",
    "Obstacles = np.array([[[1,1], [2,2]],\n",
    "                      [[4,1], [5, 3]] ])"
   ]
  },
  {
   "cell_type": "code",
   "execution_count": null,
   "id": "6990f0c7",
   "metadata": {},
   "outputs": [],
   "source": [
    "# Plotting function\n",
    "\n",
    "def plot():\n",
    "\n",
    "    "
   ]
  },
  {
   "cell_type": "code",
   "execution_count": null,
   "id": "7f952ed2",
   "metadata": {},
   "outputs": [],
   "source": []
  },
  {
   "cell_type": "code",
   "execution_count": null,
   "id": "976508f4",
   "metadata": {},
   "outputs": [],
   "source": []
  },
  {
   "cell_type": "code",
   "execution_count": null,
   "id": "c65ab7ca",
   "metadata": {},
   "outputs": [],
   "source": []
  },
  {
   "cell_type": "code",
   "execution_count": null,
   "id": "57b90fc7",
   "metadata": {},
   "outputs": [],
   "source": []
  }
 ],
 "metadata": {
  "kernelspec": {
   "display_name": "new-env",
   "language": "python",
   "name": "python3"
  },
  "language_info": {
   "codemirror_mode": {
    "name": "ipython",
    "version": 3
   },
   "file_extension": ".py",
   "mimetype": "text/x-python",
   "name": "python",
   "nbconvert_exporter": "python",
   "pygments_lexer": "ipython3",
   "version": "3.12.3"
  }
 },
 "nbformat": 4,
 "nbformat_minor": 5
}
