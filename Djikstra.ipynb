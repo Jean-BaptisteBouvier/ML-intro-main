{
 "cells": [
  {
   "cell_type": "code",
   "execution_count": 2,
   "id": "a602221f",
   "metadata": {},
   "outputs": [],
   "source": [
    "src = 0 # id of the source vertex\n",
    "V = 5 # number of vertices\n",
    "edges = [[0, 1, 4],\n",
    "         [0, 2, 8],\n",
    "         [1, 4, 6],\n",
    "         [2, 3, 2],\n",
    "         [3, 4, 10]] # each edge = [vertex_1, vertex_2, weight]"
   ]
  },
  {
   "cell_type": "code",
   "execution_count": null,
   "id": "a8f124a4",
   "metadata": {},
   "outputs": [],
   "source": [
    "import heapq\n",
    "\n",
    "# Construct Adjacency Graph\n",
    "# list of nodes containing a list of all neighbors and weights\n",
    "def constructAdj(edges, V):\n",
    "\n",
    "    adj = [[] for _ in range(V)]\n",
    "\n",
    "    for edge in edges:\n",
    "        u, v, weight = edge\n",
    "        adj[u].append([v, weight])\n",
    "        adj[v].append([u, weight])\n",
    "\n",
    "    return adj"
   ]
  },
  {
   "cell_type": "code",
   "execution_count": 3,
   "id": "bc8e50f1",
   "metadata": {},
   "outputs": [],
   "source": [
    "def djikstra(V, edges, src):\n",
    "    adj = constructAdj(edges, V)\n",
    "\n",
    "    priority_queue = [] # store [weight, vertex] to process\n",
    "\n",
    "    max_weight = sum([abs(edge[-1]) for edge in edges])\n",
    "\n",
    "    dist = [max_weight] * V\n",
    "    dist[src] = 0 #  distance from the source to itself\n",
    "    heapq.heappush(priority_queue, [0, src])\n",
    "\n",
    "    while priority_queue:\n",
    "        # Extract first vertex\n",
    "        u = heapq.heappop(priority_queue)[1]\n",
    "\n",
    "        # Get all neighbors of u\n",
    "        for x in adj[u]:\n",
    "            v, weight = x[0], x[1]\n",
    "\n",
    "            # if path from source to v is shorter through u\n",
    "            if dist[v] > weight + dist[u]:\n",
    "                dist[v] = weight + dist[u] # update distance\n",
    "                # only add vertex to the queue if it shortens path, otherwise infinite loop\n",
    "                heapq.heappush(priority_queue, [dist[v], v])\n",
    "\n",
    "    return dist\n"
   ]
  },
  {
   "cell_type": "code",
   "execution_count": 4,
   "id": "0d555a60",
   "metadata": {},
   "outputs": [
    {
     "name": "stdout",
     "output_type": "stream",
     "text": [
      "[0, 4, 8, 10, 10]\n"
     ]
    }
   ],
   "source": [
    "result = djikstra(V, edges, src)\n",
    "print(result)"
   ]
  },
  {
   "cell_type": "code",
   "execution_count": null,
   "id": "d7e9ac26",
   "metadata": {},
   "outputs": [],
   "source": []
  },
  {
   "cell_type": "code",
   "execution_count": null,
   "id": "428757a4",
   "metadata": {},
   "outputs": [],
   "source": []
  }
 ],
 "metadata": {
  "kernelspec": {
   "display_name": "new-env",
   "language": "python",
   "name": "python3"
  },
  "language_info": {
   "codemirror_mode": {
    "name": "ipython",
    "version": 3
   },
   "file_extension": ".py",
   "mimetype": "text/x-python",
   "name": "python",
   "nbconvert_exporter": "python",
   "pygments_lexer": "ipython3",
   "version": "3.12.3"
  }
 },
 "nbformat": 4,
 "nbformat_minor": 5
}
