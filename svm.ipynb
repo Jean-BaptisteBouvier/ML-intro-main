{
 "cells": [
  {
   "cell_type": "code",
   "execution_count": 9,
   "id": "0a872f13",
   "metadata": {},
   "outputs": [],
   "source": [
    "import torch\n",
    "import pandas as pd\n",
    "import torch.nn as nn\n",
    "import numpy as np"
   ]
  },
  {
   "cell_type": "code",
   "execution_count": null,
   "id": "85a13447",
   "metadata": {},
   "outputs": [
    {
     "name": "stdout",
     "output_type": "stream",
     "text": [
      "{'setosa': 0, 'versicolor': 1}\n"
     ]
    }
   ],
   "source": [
    "path = 'datasets/'\n",
    "data = pd.read_csv(path + 'iris.csv')[:100] # Binary classification\n",
    "data.shape # 150, 5\n",
    "data.keys() # 'sepal_length', 'sepal_width', 'petal_length', 'petal_width', 'species'\n",
    "features = ['sepal_length', 'sepal_width', 'petal_length', 'petal_width']\n",
    "label = 'species'\n",
    "train_idx = list(range(0, 40)) + list(range(50, 90)) #+ list(range(100, 140))\n",
    "val_idx = list(range(40, 50)) + list(range(90, 100)) #+ list(range(140, 150))\n",
    "type(data['sepal_length'][val_idx])\n",
    "\n",
    "# from text labels to id labels\n",
    "label_idx = {}\n",
    "idx = 0\n",
    "for i in range(data.shape[0]):\n",
    "    label_name = data[label][i]\n",
    "    if label_name not in label_idx:\n",
    "        label_idx[label_name] = idx\n",
    "        idx += 1\n",
    "print(label_idx)"
   ]
  },
  {
   "cell_type": "code",
   "execution_count": 8,
   "id": "ee3ab47c",
   "metadata": {},
   "outputs": [
    {
     "name": "stdout",
     "output_type": "stream",
     "text": [
      "Training: torch.Size([80, 4]) torch.Size([80])\n",
      "Evaluation: torch.Size([20, 4]) torch.Size([20])\n"
     ]
    }
   ],
   "source": [
    "X_train = torch.zeros((len(train_idx), len(features)))\n",
    "y_train = torch.zeros(len(train_idx))\n",
    "\n",
    "X_val = torch.zeros((len(val_idx), len(features)))\n",
    "y_val = torch.zeros(len(val_idx))\n",
    "\n",
    "for i, k in enumerate(features):\n",
    "    X_train[:, i] = torch.tensor(data[k][train_idx].values, dtype=torch.float32)\n",
    "    X_val[:, i] = torch.tensor(data[k][val_idx].values, dtype=torch.float32)\n",
    "\n",
    "for i, j in enumerate(train_idx):\n",
    "    idx = label_idx[ data[label][j] ]\n",
    "    y_train[i] = torch.tensor(idx)\n",
    "\n",
    "for i, j in enumerate(val_idx):\n",
    "    idx = label_idx[ data[label][j] ]\n",
    "    y_val[i] = torch.tensor(idx)\n",
    "\n",
    "print(\"Training:\", X_train.shape, y_train.shape)\n",
    "print(\"Evaluation:\", X_val.shape, y_val.shape)"
   ]
  },
  {
   "cell_type": "code",
   "execution_count": 31,
   "id": "001eb440",
   "metadata": {},
   "outputs": [
    {
     "name": "stdout",
     "output_type": "stream",
     "text": [
      "SupportVectorMachine(\n",
      "  (net): Linear(in_features=4, out_features=1, bias=True)\n",
      ")\n"
     ]
    }
   ],
   "source": [
    "class SupportVectorMachine(nn.Module):\n",
    "    def __init__(self, C:float, X_train:torch.Tensor, y_train:torch.Tensor):\n",
    "        super(SupportVectorMachine, self).__init__()\n",
    "        assert len(X_train.shape) == 2\n",
    "        self.n = X_train.shape[0]\n",
    "        self.x_dim = X_train.shape[1]\n",
    "        assert self.n > 10*self.x_dim # 10x more datapoints than datadim\n",
    "        assert len(y_train.shape) == 1\n",
    "        assert X_train.shape[0] == y_train.shape[0]\n",
    "        self.C = C # regularization parameter\n",
    "        # normalize\n",
    "        self.X_mean = X_train.mean(dim=0)\n",
    "        self.X_std = X_train.std(dim=0)\n",
    "        self.nor_X = (X_train - self.X_mean)/self.X_std\n",
    "        self.y_train = y_train\n",
    "        self.net = nn.Linear(X_train.shape[1], 1)\n",
    "        self.optim = torch.optim.SGD(self.net.parameters(), lr=0.01)\n",
    "\n",
    "    def forward(self, x):\n",
    "        return self.net(x)\n",
    "\n",
    "    def hinge_loss(self, y_true:torch.Tensor, y_pred:torch.Tensor):\n",
    "        assert y_pred.shape == y_true.shape, f\"y_pred {y_pred.shape}    y_true {y_true.shape}\" # must be 1 dim\n",
    "        return (1 - y_true * y_pred).clamp(min=0).mean(dim=0)\n",
    "\n",
    "\n",
    "    def train(self, num_epochs:int = 1000, batch_size:int = 16):\n",
    "        for epoch in range(num_epochs):\n",
    "            idx = np.random.randint(low=0, high=self.n, size=batch_size)\n",
    "            x = self.nor_X[idx]\n",
    "            # print(idx, x.shape)\n",
    "            y_true = self.y_train[idx]\n",
    "            y_pred = self.forward(x)[:, 0]\n",
    "            loss = self.hinge_loss(y_true=y_true, y_pred=y_pred)\n",
    "            loss.backward()\n",
    "            self.optim.step()\n",
    "            self.optim.zero_grad()\n",
    "            if epoch % 100 == 0:\n",
    "                print(f\"Epoch {epoch}:  loss: {loss.detach().item():.4f}\")\n",
    "\n",
    "    def predict(self, X):\n",
    "        # normalize\n",
    "        nor_X = (X - self.X_mean)/self.X_std\n",
    "        with torch.no_grad():\n",
    "            y_pred = self.forward(nor_X)\n",
    "        y_pred = [torch.tensor([0]) if y < 0 else torch.tensor([1]) for y in y_pred]\n",
    "        y_pred = torch.vstack(y_pred)\n",
    "        return y_pred\n",
    "\n",
    "svm = SupportVectorMachine(C=1.0, X_train=X_train, y_train=y_train)        \n",
    "print(svm)"
   ]
  },
  {
   "cell_type": "code",
   "execution_count": 32,
   "id": "7bf4a794",
   "metadata": {},
   "outputs": [
    {
     "name": "stdout",
     "output_type": "stream",
     "text": [
      "Epoch 0:  loss: 1.5390\n",
      "Epoch 100:  loss: 0.6176\n",
      "Epoch 200:  loss: 0.2606\n",
      "Epoch 300:  loss: 0.4375\n",
      "Epoch 400:  loss: 0.6250\n",
      "Epoch 500:  loss: 0.2500\n",
      "Epoch 600:  loss: 0.3750\n",
      "Epoch 700:  loss: 0.3750\n",
      "Epoch 800:  loss: 0.5625\n",
      "Epoch 900:  loss: 0.6250\n"
     ]
    }
   ],
   "source": [
    "svm.train()"
   ]
  },
  {
   "cell_type": "code",
   "execution_count": 41,
   "id": "b2514fbc",
   "metadata": {},
   "outputs": [
    {
     "name": "stdout",
     "output_type": "stream",
     "text": [
      "torch.Size([80, 1]) torch.Size([80])\n",
      "1.0\n"
     ]
    }
   ],
   "source": [
    "# Accuracy on the training set\n",
    "\n",
    "y_pred = svm.predict(X_train)\n",
    "print(y_pred.shape, y_train.shape)\n",
    "accuracy = torch.mean((y_pred[:,0] == y_train).float()).item()\n",
    "print(accuracy)"
   ]
  },
  {
   "cell_type": "code",
   "execution_count": 42,
   "id": "28d0f7e7",
   "metadata": {},
   "outputs": [
    {
     "name": "stdout",
     "output_type": "stream",
     "text": [
      "0.949999988079071\n"
     ]
    }
   ],
   "source": [
    "# Accuracy on the validation set\n",
    "\n",
    "y_pred = svm.predict(X_val)\n",
    "accuracy = torch.mean((y_pred[:,0] == y_val).float()).item()\n",
    "print(accuracy)\n",
    "# print(y_pred[:,0], y_val)"
   ]
  }
 ],
 "metadata": {
  "kernelspec": {
   "display_name": "dino-env",
   "language": "python",
   "name": "python3"
  },
  "language_info": {
   "codemirror_mode": {
    "name": "ipython",
    "version": 3
   },
   "file_extension": ".py",
   "mimetype": "text/x-python",
   "name": "python",
   "nbconvert_exporter": "python",
   "pygments_lexer": "ipython3",
   "version": "3.11.0"
  }
 },
 "nbformat": 4,
 "nbformat_minor": 5
}
