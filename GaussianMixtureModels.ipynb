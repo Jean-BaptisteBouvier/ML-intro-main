{
 "cells": [
  {
   "cell_type": "code",
   "execution_count": null,
   "id": "b56384ad",
   "metadata": {},
   "outputs": [],
   "source": [
    "import math\n",
    "import torch\n",
    "import torch.nn as nn\n",
    "import pandas as pd"
   ]
  },
  {
   "cell_type": "code",
   "execution_count": null,
   "id": "858a352e",
   "metadata": {},
   "outputs": [
    {
     "name": "stdout",
     "output_type": "stream",
     "text": [
      "{'setosa': 0, 'versicolor': 1, 'virginica': 2}\n"
     ]
    }
   ],
   "source": [
    "path = 'C:/Users/jeanb/Documents/Python Scripts/ML-intro-main/datasets/'\n",
    "data = pd.read_csv(path + 'iris.csv')\n",
    "data.shape # 150, 5\n",
    "data.keys() # 'sepal_length', 'sepal_width', 'petal_length', 'petal_width', 'species'\n",
    "features = ['sepal_length', 'sepal_width', 'petal_length', 'petal_width']\n",
    "label = 'species'\n",
    "train_idx = list(range(0, 40)) + list(range(50, 90)) + list(range(100, 140))\n",
    "val_idx = list(range(40, 50)) + list(range(90, 100)) + list(range(140, 150))\n",
    "type(data['sepal_length'][val_idx])\n",
    "\n",
    "# from text labels to id labels\n",
    "label_idx = {}\n",
    "idx = 0\n",
    "for i in range(data.shape[0]):\n",
    "    label_name = data[label][i]\n",
    "    if label_name not in label_idx:\n",
    "        label_idx[label_name] = idx\n",
    "        idx += 1\n",
    "print(label_idx)"
   ]
  },
  {
   "cell_type": "code",
   "execution_count": 35,
   "id": "ef351817",
   "metadata": {},
   "outputs": [
    {
     "name": "stdout",
     "output_type": "stream",
     "text": [
      "Training: torch.Size([120, 4]) torch.Size([120])\n",
      "Evaluation: torch.Size([30, 4]) torch.Size([30])\n"
     ]
    }
   ],
   "source": [
    "X_train = torch.zeros((len(train_idx), len(features)))\n",
    "y_train = torch.zeros(len(train_idx))\n",
    "\n",
    "X_val = torch.zeros((len(val_idx), len(features)))\n",
    "y_val = torch.zeros(len(val_idx))\n",
    "\n",
    "for i, k in enumerate(features):\n",
    "    X_train[:, i] = torch.tensor(data[k][train_idx].values, dtype=torch.float32)\n",
    "    X_val[:, i] = torch.tensor(data[k][val_idx].values, dtype=torch.float32)\n",
    "\n",
    "for i, j in enumerate(train_idx):\n",
    "    idx = label_idx[ data[label][j] ]\n",
    "    y_train[i] = torch.tensor(idx)\n",
    "\n",
    "for i, j in enumerate(val_idx):\n",
    "    idx = label_idx[ data[label][j] ]\n",
    "    y_val[i] = torch.tensor(idx)\n",
    "\n",
    "# Normalization\n",
    "X_mean = X_train.mean(dim=0)\n",
    "X_train /= X_mean\n",
    "X_val /= X_mean\n",
    "\n",
    "print(\"Training:\", X_train.shape, y_train.shape)\n",
    "print(\"Evaluation:\", X_val.shape, y_val.shape)"
   ]
  },
  {
   "cell_type": "code",
   "execution_count": 45,
   "id": "73fffdc8",
   "metadata": {},
   "outputs": [],
   "source": [
    "# Synthetic dataset\n",
    "\n",
    "N = 200\n",
    "centers = torch.Tensor([[-1., -1.], [1., 1.]])\n",
    "X_train = torch.randn((N, 2))*0.2\n",
    "X_train[:N//2] += centers[0]\n",
    "X_train[N//2:] += centers[1]\n",
    "# shuffling\n",
    "X_train = X_train[torch.randperm(N)]\n"
   ]
  },
  {
   "cell_type": "code",
   "execution_count": 46,
   "id": "481a36aa",
   "metadata": {},
   "outputs": [
    {
     "ename": "_LinAlgError",
     "evalue": "linalg.inv: The diagonal element 2 is zero, the inversion could not be completed because the input matrix is singular.",
     "output_type": "error",
     "traceback": [
      "\u001b[1;31m---------------------------------------------------------------------------\u001b[0m",
      "\u001b[1;31m_LinAlgError\u001b[0m                              Traceback (most recent call last)",
      "Cell \u001b[1;32mIn[46], line 87\u001b[0m\n\u001b[0;32m     85\u001b[0m K \u001b[38;5;241m=\u001b[39m \u001b[38;5;241m5\u001b[39m\n\u001b[0;32m     86\u001b[0m model \u001b[38;5;241m=\u001b[39m GaussianMixture(K\u001b[38;5;241m=\u001b[39mK, X_train\u001b[38;5;241m=\u001b[39mX_train)\n\u001b[1;32m---> 87\u001b[0m \u001b[43mmodel\u001b[49m\u001b[38;5;241;43m.\u001b[39;49m\u001b[43mtrain\u001b[49m\u001b[43m(\u001b[49m\u001b[43mepochs\u001b[49m\u001b[38;5;241;43m=\u001b[39;49m\u001b[38;5;241;43m1\u001b[39;49m\u001b[43m)\u001b[49m\n",
      "Cell \u001b[1;32mIn[46], line 64\u001b[0m, in \u001b[0;36mGaussianMixture.train\u001b[1;34m(self, epochs)\u001b[0m\n\u001b[0;32m     62\u001b[0m \u001b[38;5;28;01mfor\u001b[39;00m e \u001b[38;5;129;01min\u001b[39;00m \u001b[38;5;28mrange\u001b[39m(epochs):\n\u001b[0;32m     63\u001b[0m     \u001b[38;5;28mself\u001b[39m\u001b[38;5;241m.\u001b[39m_responsabilities()\n\u001b[1;32m---> 64\u001b[0m     \u001b[38;5;28;43mself\u001b[39;49m\u001b[38;5;241;43m.\u001b[39;49m\u001b[43m_update\u001b[49m\u001b[43m(\u001b[49m\u001b[43m)\u001b[49m\n",
      "Cell \u001b[1;32mIn[46], line 59\u001b[0m, in \u001b[0;36mGaussianMixture._update\u001b[1;34m(self)\u001b[0m\n\u001b[0;32m     57\u001b[0m \u001b[38;5;28mself\u001b[39m\u001b[38;5;241m.\u001b[39mcovariance[k] \u001b[38;5;241m/\u001b[39m\u001b[38;5;241m=\u001b[39m \u001b[38;5;28mself\u001b[39m\u001b[38;5;241m.\u001b[39msum_responsability[k]\n\u001b[0;32m     58\u001b[0m \u001b[38;5;28mself\u001b[39m\u001b[38;5;241m.\u001b[39mdet_cov[k] \u001b[38;5;241m=\u001b[39m torch\u001b[38;5;241m.\u001b[39mlinalg\u001b[38;5;241m.\u001b[39mdet(\u001b[38;5;28mself\u001b[39m\u001b[38;5;241m.\u001b[39mcovariance[k])\n\u001b[1;32m---> 59\u001b[0m \u001b[38;5;28mself\u001b[39m\u001b[38;5;241m.\u001b[39minv_cov[k] \u001b[38;5;241m=\u001b[39m \u001b[43mtorch\u001b[49m\u001b[38;5;241;43m.\u001b[39;49m\u001b[43mlinalg\u001b[49m\u001b[38;5;241;43m.\u001b[39;49m\u001b[43minv\u001b[49m\u001b[43m(\u001b[49m\u001b[38;5;28;43mself\u001b[39;49m\u001b[38;5;241;43m.\u001b[39;49m\u001b[43mcovariance\u001b[49m\u001b[43m[\u001b[49m\u001b[43mk\u001b[49m\u001b[43m]\u001b[49m\u001b[43m)\u001b[49m\n",
      "\u001b[1;31m_LinAlgError\u001b[0m: linalg.inv: The diagonal element 2 is zero, the inversion could not be completed because the input matrix is singular."
     ]
    }
   ],
   "source": [
    "class GaussianMixture():\n",
    "    \"\"\"\n",
    "    GMM Gaussian Mixture Model for clustering\n",
    "    \"\"\"\n",
    "    def __init__(self, K:int, X_train):\n",
    "        assert type(K) == int and K > 0\n",
    "        assert len(X_train.shape) == 2\n",
    "        self.K = K # number of clusters\n",
    "        self.X_train = X_train\n",
    "        self.N, self.x_dim = X_train.shape\n",
    "        self._init()\n",
    "\n",
    "    def _init(self):\n",
    "        \"\"\"Initialize the mixing coefficients, mean and variances\"\"\"\n",
    "        self.mixing = torch.ones(self.K)/self.K\n",
    "        # initialize means by taking mean over subsets of the dataset\n",
    "        self.mean = torch.zeros((self.K, self.x_dim))\n",
    "        self.covariance = torch.zeros((self.K, self.x_dim, self.x_dim))\n",
    "        self.det_cov = torch.zeros(self.K) # determinant of covariance matrices\n",
    "        self.inv_cov = torch.zeros((self.K, self.x_dim, self.x_dim)) # inverse of covariance matrices\n",
    "        for k in range(self.K):\n",
    "            i = k*self.N//self.K\n",
    "            j = (k+1)*self.N//self.K\n",
    "            self.mean[k] = self.X_train[i:j].mean(dim=0)\n",
    "            self.covariance[k] = torch.cov(self.X_train[i:j].T)\n",
    "            self.det_cov[k] = torch.linalg.det(self.covariance[k])\n",
    "            self.inv_cov[k] = torch.linalg.inv(self.covariance[k])\n",
    "\n",
    "\n",
    "    def _responsabilities(self):\n",
    "        \"\"\"Calculate the responsibilities for each datapoint based on the kernels\"\"\"\n",
    "        self.pdf = torch.zeros((self.K, self.N)) # N(x_i, mu_k, sigma_k)\n",
    "        for k in range(self.K):\n",
    "            self.pdf[k] = self._Gaussian(k)\n",
    "        \n",
    "        # one for each datapoint for each cluster\n",
    "        self.responsibility = (self.mixing.T * self.pdf.T).T # K, N\n",
    "        self.responsibility /= self.responsibility.sum(dim=0) # sum over K\n",
    "        self.sum_responsability = torch.sum(self.responsibility, dim=1) # sum over N\n",
    "\n",
    "    def _Gaussian(self, k):\n",
    "        \"\"\"Returns the Gaussian probability  P( X_train | mu_k sigma_k )\n",
    "        for cluster k \"\"\"\n",
    "        mu = self.mean[k]\n",
    "        p = (self.X_train - mu) @ self.inv_cov[k] @ (self.X_train - mu).T\n",
    "        d = torch.sqrt( (2*math.pi)**self.x_dim * self.det_cov[k])\n",
    "        return torch.exp(-0.5*torch.diag(p)) / d\n",
    "    \n",
    "    def _update(self):\n",
    "        \"\"\"Update the mean, covariance and mixing coefficients\"\"\"\n",
    "        self.mean = self.responsibility @ self.X_train # K, N @ N, x = K, x\n",
    "        self.mean = (self.mean.T / self.sum_responsability).T\n",
    "        self.mixing = self.sum_responsability/self.N\n",
    "\n",
    "        for k in range(self.K):\n",
    "            self.covariance[k] = torch.sum(self.responsibility[k] @ (self.X_train - self.mean[k]) @ (self.X_train - self.mean[k]).T)\n",
    "            self.covariance[k] /= self.sum_responsability[k]\n",
    "            self.det_cov[k] = torch.linalg.det(self.covariance[k])\n",
    "            self.inv_cov[k] = torch.linalg.inv(self.covariance[k])\n",
    "\n",
    "    def train(self, epochs:int):\n",
    "        for e in range(epochs):\n",
    "            self._responsabilities()\n",
    "            self._update()\n",
    "\n",
    "\n",
    "    def predict(self, X:torch.Tensor):\n",
    "        \"\"\"X: dim (batch, number_of_features)\"\"\"\n",
    "        assert len(X.shape) == 2 \n",
    "        assert X.shape[1] == self.nb_features\n",
    "\n",
    "        proba = []\n",
    "        classes = torch.zeros(X.shape[0])\n",
    "        for sample_id in range(X.shape[0]):\n",
    "            proba.append( [] )\n",
    "            for c in self.class_probability.keys():\n",
    "                proba[sample_id].append(self._Gaussian_product(X[sample_id], c))\n",
    "            proba[sample_id] = torch.hstack(proba[sample_id])\n",
    "            classes[sample_id] = torch.argmax(proba[sample_id]) # Maximum A Posteriori\n",
    "        print(proba)\n",
    "        return classes\n",
    "\n",
    "# Shuffle dataset\n",
    "X_train = X_train[torch.randperm(X_train.shape[0])]\n",
    "K = 5\n",
    "model = GaussianMixture(K=K, X_train=X_train)\n",
    "model.train(epochs=1)"
   ]
  },
  {
   "cell_type": "code",
   "execution_count": null,
   "id": "3041b801",
   "metadata": {},
   "outputs": [
    {
     "data": {
      "text/plain": [
       "tensor([6, 7, 8, 4, 5, 0, 2, 9, 3, 1])"
      ]
     },
     "execution_count": 39,
     "metadata": {},
     "output_type": "execute_result"
    }
   ],
   "source": [
    "# model.X_train.shape, model.inv_cov[0].shape\n",
    "# model.mixing.shape, model.pdf.shape\n",
    "# (model.mixing.T * model.pdf.T).T.shape\n",
    "# model.mean.shape, model.sum_responsability.T.shape\n",
    "# (model.mean.T / model.sum_responsability).shape\n",
    "# model.covariance\n",
    "# model.mean\n",
    "# model.det_cov\n",
    "# torch.cov(X_train[0:40].T)\n",
    "# model.responsibility\n"
   ]
  },
  {
   "cell_type": "code",
   "execution_count": 44,
   "id": "24838409",
   "metadata": {},
   "outputs": [],
   "source": [
    "## TODO\n",
    "# # Make predictions on the training set\n",
    "# predictions = model.predict(X_train)\n",
    "\n",
    "# # Calculate accuracy\n",
    "# accuracy = (predictions == y_train).float().mean()\n",
    "# print(f\"Training Accuracy: {accuracy.item() * 100:.2f}%\")"
   ]
  }
 ],
 "metadata": {
  "kernelspec": {
   "display_name": "dino-env",
   "language": "python",
   "name": "python3"
  },
  "language_info": {
   "codemirror_mode": {
    "name": "ipython",
    "version": 3
   },
   "file_extension": ".py",
   "mimetype": "text/x-python",
   "name": "python",
   "nbconvert_exporter": "python",
   "pygments_lexer": "ipython3",
   "version": "3.11.0"
  }
 },
 "nbformat": 4,
 "nbformat_minor": 5
}
