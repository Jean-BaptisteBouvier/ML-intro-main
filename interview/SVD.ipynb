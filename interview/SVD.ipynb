{
 "cells": [
  {
   "cell_type": "markdown",
   "id": "0ae55995",
   "metadata": {},
   "source": [
    "# Singular Value Decomposition\n",
    "\n",
    "\n",
    "in numpy implement the forward and backward functions given the gradient equations"
   ]
  },
  {
   "cell_type": "code",
   "execution_count": null,
   "id": "a457406a",
   "metadata": {},
   "outputs": [],
   "source": [
    "import numpy as np\n",
    "\n",
    "class SVDLayer():\n",
    "    def __init__(self):\n",
    "        pass\n",
    "\n",
    "    def forward(self, X:np.ndarray) -> tuple[np.ndarray, np.ndarray, np.ndarray]:\n",
    "        \"\"\"X to U, S, V with U@S@V.T = X\"\"\"\n",
    "        m, n = X.shape\n",
    "        U, S, Vh = np.linalg.svd(X) # S is (n,)\n",
    "        V = Vh.T\n",
    "\n",
    "        S = np.concatenate( (np.diag(S), np.zeros((m-n, n))), axis=0) # (m, n)\n",
    "\n",
    "        # Store the values for backward pass\n",
    "        self.out = U, S, V\n",
    "        self.X = X\n",
    "\n",
    "        return U, S, V\n",
    "    \n",
    "    def backward(self, upstream_grad:tuple[np.ndarray, np.ndarray, np.ndarray]) -> np.ndarray:\n",
    "        \"\"\" K_{i,j} = 1/(sigma_i**2 - sigma_j**2) if i != j\n",
    "                      0  if i == j\"\"\"\n",
    "        dLdU, dLdS, dLdV = upstream_grad # gradient of the loss wrt forward outputs U, S, V\n",
    "        U, S, V = self.out\n",
    "        m, n = self.X.shape\n",
    "\n",
    "        # K matrix\n",
    "        sigma = np.diag(S[:n]) # (n,)\n",
    "        sigma = np.expand_dims(sigma, axis=0) # (1,n)\n",
    "        K = sigma**2 - (sigma.T)**2 # (n,n) by broadcasting\n",
    "        K = 1./np.triu(K, k=1) + 1./1./np.tril(K, k=1)\n",
    "\n",
    "        # gradient of the loss wrt to forward input X\n",
    "        dLdX = U @ ( ) @ V.T\n",
    "\n",
    "        return dLdX\n",
    "\n"
   ]
  },
  {
   "cell_type": "code",
   "execution_count": 4,
   "id": "3722b81d",
   "metadata": {},
   "outputs": [],
   "source": [
    "### Testing\n",
    "\n",
    "m = 3\n",
    "n = 2\n",
    "X = np.concatenate((np.eye(n), np.zeros((m-n, n))), axis=0)\n",
    "\n",
    "svd = SVDLayer()\n",
    "\n",
    "U, S, V = svd.forward(X)\n",
    "assert np.linalg.norm(U @ S @ V.T - X) < 1e-10"
   ]
  }
 ],
 "metadata": {
  "kernelspec": {
   "display_name": "new-env",
   "language": "python",
   "name": "python3"
  },
  "language_info": {
   "codemirror_mode": {
    "name": "ipython",
    "version": 3
   },
   "file_extension": ".py",
   "mimetype": "text/x-python",
   "name": "python",
   "nbconvert_exporter": "python",
   "pygments_lexer": "ipython3",
   "version": "3.12.3"
  }
 },
 "nbformat": 4,
 "nbformat_minor": 5
}
