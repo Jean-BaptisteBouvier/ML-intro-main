{
 "cells": [
  {
   "cell_type": "markdown",
   "id": "e3f91de6",
   "metadata": {},
   "source": [
    "# Navigate in a grid\n",
    "\n",
    "Each cell has a given cost, the robot can start from any cell of the top row and must reach the bottom row by taking the path minimizing the overall cost.\n",
    "\n",
    "At each step the robot can only go straight down, or down in diagonal"
   ]
  },
  {
   "cell_type": "code",
   "execution_count": null,
   "id": "23ca9648",
   "metadata": {},
   "outputs": [],
   "source": [
    "import numpy as np\n",
    "\n",
    "\n",
    "def solve(grid: np.ndarray[int]):\n",
    "    n, m = grid.shape\n",
    "    cost_to_go = grid.copy()\n",
    "    path = [[-1]*n for _ in range(m)]\n",
    "    for i in range(m):\n",
    "        path[i][0] = i # start the path at index i\n",
    "\n",
    "    for row_id in range(n-2, -1, -1):\n",
    "        for col_id in range(m):\n",
    "\n",
    "            min_col = max(0, col_id-1)\n",
    "            max_col = min(m, col_id+2)\n",
    "            next_id = min_col + np.argmin(cost_to_go[row_id+1, min_col:max_col])\n",
    "\n",
    "            # cost = current step cost + minimum of the next 3 possibilities\n",
    "            cost_to_go[row_id, col_id] = grid[row_id, col_id] + cost_to_go[row_id+1, next_id]\n",
    "            path[col_id][row_id+1] = next_id\n",
    "\n",
    "    print(cost_to_go)\n",
    "    print(path)\n",
    "    start_id = np.argmin(cost_to_go[0])\n",
    "    lowest_cost = cost_to_go[0, start_id]\n",
    "    best_path = path[start_id]\n",
    "\n",
    "    return lowest_cost, best_path"
   ]
  },
  {
   "cell_type": "code",
   "execution_count": 7,
   "id": "9405130c",
   "metadata": {},
   "outputs": [
    {
     "name": "stdout",
     "output_type": "stream",
     "text": [
      "[[7 7 6 7 6]\n",
      " [6 9 3 6 4]\n",
      " [7 2 6 4 1]]\n",
      "[[0, 0, 1], [1, 2, 1], [2, 2, 1], [3, 2, 4], [4, 4, 4]]\n",
      "[7 2 6 4 1] [2, 2, 1]\n"
     ]
    }
   ],
   "source": [
    "grid = np.array([[1, 4, 3, 4, 2],\n",
    "                 [4, 7, 1, 5, 3],\n",
    "                 [7, 2, 6, 4, 1]])\n",
    "\n",
    "lowest_cost, best_path = solve(grid)\n",
    "print(lowest_cost, best_path)"
   ]
  },
  {
   "cell_type": "code",
   "execution_count": null,
   "id": "5977e966",
   "metadata": {},
   "outputs": [],
   "source": []
  }
 ],
 "metadata": {
  "kernelspec": {
   "display_name": "new-env",
   "language": "python",
   "name": "python3"
  },
  "language_info": {
   "codemirror_mode": {
    "name": "ipython",
    "version": 3
   },
   "file_extension": ".py",
   "mimetype": "text/x-python",
   "name": "python",
   "nbconvert_exporter": "python",
   "pygments_lexer": "ipython3",
   "version": "3.12.3"
  }
 },
 "nbformat": 4,
 "nbformat_minor": 5
}
