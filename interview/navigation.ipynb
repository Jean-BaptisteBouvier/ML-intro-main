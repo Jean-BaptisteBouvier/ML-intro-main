{
 "cells": [
  {
   "cell_type": "markdown",
   "id": "58cbc325",
   "metadata": {},
   "source": [
    "Robot grid navigation\n",
    "\n",
    "Only up, down, right left"
   ]
  },
  {
   "cell_type": "code",
   "execution_count": 1,
   "id": "6989a494",
   "metadata": {},
   "outputs": [
    {
     "name": "stdout",
     "output_type": "stream",
     "text": [
      "[(1, 1), (2, 1), (3, 1), (4, 1), (4, 2), (4, 3), (4, 4)]\n"
     ]
    }
   ],
   "source": [
    "from queue import Queue\n",
    "\n",
    "def bfs(maze, start, end):\n",
    "    queue = Queue()\n",
    "    queue.put([start])  # Enqueue the start position\n",
    "\n",
    "    while not queue.empty():\n",
    "        path = queue.get()  # Dequeue the path\n",
    "        x, y = path[-1]     # Current position is the last element of the path\n",
    "\n",
    "        if (x, y) == end:\n",
    "            return path  # Return the path if end is reached\n",
    "\n",
    "        for dx, dy in [(1,0), (0,1), (-1,0), (0,-1)]:  # Possible movements\n",
    "            next_x, next_y = x + dx, y + dy\n",
    "            if maze[next_x][next_y] != '#' and (next_x, next_y) not in path:\n",
    "                new_path = list(path)\n",
    "                new_path.append((next_x, next_y))\n",
    "                queue.put(new_path)  # Enqueue the new path\n",
    "\n",
    "# Example usage\n",
    "maze = [\n",
    "    ['#', '#', '#', '#', '#', '#'],\n",
    "    ['#', 'S', ' ', ' ', ' ', '#'],\n",
    "    ['#', ' ', '#', ' ', '#', '#'],\n",
    "    ['#', ' ', '#', ' ', ' ', '#'],\n",
    "    ['#', ' ', ' ', ' ', 'E', '#'],\n",
    "    ['#', '#', '#', '#', '#', '#']\n",
    "]\n",
    "start = (1, 1)  # Start position (S)\n",
    "end = (4, 4)    # End position (E)\n",
    "path = bfs(maze, start, end)\n",
    "print(path)\n"
   ]
  }
 ],
 "metadata": {
  "kernelspec": {
   "display_name": "new-env",
   "language": "python",
   "name": "python3"
  },
  "language_info": {
   "codemirror_mode": {
    "name": "ipython",
    "version": 3
   },
   "file_extension": ".py",
   "mimetype": "text/x-python",
   "name": "python",
   "nbconvert_exporter": "python",
   "pygments_lexer": "ipython3",
   "version": "3.12.3"
  }
 },
 "nbformat": 4,
 "nbformat_minor": 5
}
