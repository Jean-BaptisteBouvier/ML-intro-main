{
 "cells": [
  {
   "cell_type": "code",
   "execution_count": 7,
   "id": "8cbd1bfa",
   "metadata": {},
   "outputs": [],
   "source": [
    "import math\n",
    "import gymnasium as gym\n",
    "import torch\n",
    "import torch.nn as nn\n",
    "import matplotlib.pyplot as plt\n",
    "from collections import deque\n",
    "import random"
   ]
  },
  {
   "cell_type": "code",
   "execution_count": 8,
   "id": "f820a7a2",
   "metadata": {},
   "outputs": [],
   "source": [
    "env = gym.make(\"CartPole-v1\")\n",
    "device = torch.device(\"cuda\" if torch.cuda.is_available() else \"cpu\")"
   ]
  },
  {
   "cell_type": "code",
   "execution_count": 9,
   "id": "a19757a3",
   "metadata": {},
   "outputs": [],
   "source": [
    "class ReplayBuffer():\n",
    "    def __init__(self, max_capacity: int = 10000):\n",
    "        self.max_capacity = max_capacity\n",
    "        self.memory = deque([], maxlen=max_capacity)\n",
    "\n",
    "    def push(self, transition):\n",
    "        self.memory.append(transition)\n",
    "\n",
    "    def sample(self, batch_size: int = 8):\n",
    "        return random.sample(self.memory, batch_size)\n",
    "    \n",
    "    def __len__(self):\n",
    "        return len(self.memory)"
   ]
  },
  {
   "cell_type": "code",
   "execution_count": 10,
   "id": "dd815e79",
   "metadata": {},
   "outputs": [],
   "source": [
    "class DQN(nn.Module):\n",
    "    def __init__(self, n_obs:int, n_actions:int, width:int = 128):\n",
    "        super(DQN, self).__init__()\n",
    "        self.net = nn.Sequential(nn.Linear(n_obs, width), nn.ReLU(),\n",
    "                                 nn.Linear(width, width), nn.ReLU(),\n",
    "                                 nn.Linear(width, n_actions))\n",
    "\n",
    "\n",
    "    def forward(self, x):\n",
    "        return self.net(x)    \n",
    "\n"
   ]
  },
  {
   "cell_type": "code",
   "execution_count": null,
   "id": "d203ca38",
   "metadata": {},
   "outputs": [],
   "source": [
    "batch_size = 128\n",
    "gamma = 0.99\n",
    "eps_start = 0.9\n",
    "eps_end = 0.01\n",
    "eps_decay = 2500\n",
    "tau = 0.005\n",
    "lr = 3e-4\n",
    "\n",
    "n_actions = env.action_space.n\n",
    "state, info = env.reset()\n",
    "n_obs = len(state)\n",
    "\n",
    "policy = DQN(n_obs, n_actions).to(device)\n",
    "target = DQN(n_obs, n_actions).to(device)\n",
    "target.load_state_dict(policy.state_dict())\n",
    "\n",
    "optimizer = torch.optim.AdamW(policy.parameters(), lr=lr)\n",
    "buffer = ReplayBuffer(10000)"
   ]
  },
  {
   "cell_type": "code",
   "execution_count": null,
   "id": "21f4b9a2",
   "metadata": {},
   "outputs": [],
   "source": [
    "steps_done = 0\n",
    "\n",
    "def select_action(state, steps_done:int):\n",
    "    s = random.random()\n",
    "    eps_threshold = eps_end + (eps_start - eps_end) * math.exp(-steps_done/eps_decay)\n",
    "    steps_done += 1\n",
    "    if s > eps_threshold:\n",
    "        with torch.no_grad():\n",
    "            return policy(state).argmax(axis=-1)\n",
    "    else: # random action\n",
    "        a = torch.tensor([[env.action_space.sample()]], device=device, dtype=torch.long)\n",
    "        return a\n"
   ]
  },
  {
   "cell_type": "code",
   "execution_count": null,
   "id": "537844af",
   "metadata": {},
   "outputs": [],
   "source": [
    "def train():\n",
    "    if len(buffer) < batch_size:\n",
    "        return\n",
    "    transitions = buffer.sample(batch_size)\n",
    "\n",
    "    3"
   ]
  },
  {
   "cell_type": "code",
   "execution_count": null,
   "id": "35bd40a0",
   "metadata": {},
   "outputs": [],
   "source": []
  },
  {
   "cell_type": "code",
   "execution_count": null,
   "id": "6e2cb385",
   "metadata": {},
   "outputs": [],
   "source": []
  },
  {
   "cell_type": "code",
   "execution_count": null,
   "id": "d0aec4ce",
   "metadata": {},
   "outputs": [],
   "source": []
  }
 ],
 "metadata": {
  "kernelspec": {
   "display_name": "new-env",
   "language": "python",
   "name": "python3"
  },
  "language_info": {
   "codemirror_mode": {
    "name": "ipython",
    "version": 3
   },
   "file_extension": ".py",
   "mimetype": "text/x-python",
   "name": "python",
   "nbconvert_exporter": "python",
   "pygments_lexer": "ipython3",
   "version": "3.12.3"
  }
 },
 "nbformat": 4,
 "nbformat_minor": 5
}
