{
 "cells": [
  {
   "cell_type": "code",
   "execution_count": 1,
   "id": "0e979028",
   "metadata": {},
   "outputs": [],
   "source": [
    "import os\n",
    "import torch\n",
    "import torch.nn as nn\n"
   ]
  },
  {
   "cell_type": "code",
   "execution_count": null,
   "id": "cc3dab90",
   "metadata": {},
   "outputs": [],
   "source": [
    "class RNN(nn.Module):\n",
    "    def __init__(self, input_dim:int, hidden_dim:int, output_dim:int):\n",
    "        super().__init__()\n",
    "        self.hidden_dim = hidden_dim\n",
    "        self.in_to_hidden = nn.Linear(input_dim + hidden_dim, hidden_dim)\n",
    "        self.in_to_output = nn.Linear(input_dim + hidden_dim, output_dim)\n",
    "        self.init_hidden()\n",
    "\n",
    "    def init_hidden(self):\n",
    "        self.hidden = nn.init.kaiming_uniform_(torch.empty(1,self.hidden_size))\n",
    "\n",
    "    def forward(self, input):\n",
    "        x = torch.cat((input, self.hidden), dim=1)\n",
    "        self.hidden = torch.sigmoid(self.in_to_hidden(x))\n",
    "        out = self.in_to_output(x)\n",
    "        return out\n",
    "\n",
    "\n",
    "input_dim = \n",
    "hidden_dim = \n",
    "output_dim = \n",
    "model = RNN(input_dim=input_dim, hidden_dim=hidden_dim, output_dim=output_dim)"
   ]
  },
  {
   "cell_type": "code",
   "execution_count": null,
   "id": "0e8c6513",
   "metadata": {},
   "outputs": [],
   "source": []
  },
  {
   "cell_type": "code",
   "execution_count": null,
   "id": "e213cc5c",
   "metadata": {},
   "outputs": [],
   "source": []
  },
  {
   "cell_type": "code",
   "execution_count": null,
   "id": "a5f4d8a3",
   "metadata": {},
   "outputs": [],
   "source": []
  },
  {
   "cell_type": "code",
   "execution_count": null,
   "id": "eb86c515",
   "metadata": {},
   "outputs": [],
   "source": []
  }
 ],
 "metadata": {
  "kernelspec": {
   "display_name": "dino-env",
   "language": "python",
   "name": "python3"
  },
  "language_info": {
   "codemirror_mode": {
    "name": "ipython",
    "version": 3
   },
   "file_extension": ".py",
   "mimetype": "text/x-python",
   "name": "python",
   "nbconvert_exporter": "python",
   "pygments_lexer": "ipython3",
   "version": "3.11.0"
  }
 },
 "nbformat": 4,
 "nbformat_minor": 5
}
