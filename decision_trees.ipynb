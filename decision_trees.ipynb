{
 "cells": [
  {
   "cell_type": "code",
   "execution_count": 73,
   "id": "b56384ad",
   "metadata": {},
   "outputs": [],
   "source": [
    "import torch\n",
    "import torchvision\n",
    "import torch.nn as nn\n",
    "from torchvision import transforms"
   ]
  },
  {
   "cell_type": "code",
   "execution_count": 74,
   "id": "6d6f6ef1",
   "metadata": {},
   "outputs": [],
   "source": [
    "# # Fashion MNIST dataset: too many features: 28x28 for a random tree\n",
    "# path = 'C:/Users/jeanb/Documents/Python Scripts/DiveIntoDL/data'\n",
    "\n",
    "# class FashionMNIST(nn.Module):\n",
    "#     def __init__(self, batch_size = 64, resize=(28,28)):\n",
    "#         super().__init__()\n",
    "#         trans = transforms.ToTensor()\n",
    "#         self.train = torchvision.datasets.FashionMNIST(root=path,\n",
    "#                                                        train=True,\n",
    "#                                                        transform=trans,\n",
    "#                                                        download=True)\n",
    "#         self.val = torchvision.datasets.FashionMNIST(root=path,\n",
    "#                                                        train=False,\n",
    "#                                                        transform=trans,\n",
    "#                                                        download=True)\n",
    "        \n",
    "#     def text_labels(self, indices):\n",
    "#         labels = ['t-shirt', 'trouser', 'pullover', 'dress', 'coat',\n",
    "#                    'sandal', 'shirt', 'sneaker', 'bag', 'ankle boot']\n",
    "#         return [labels[int(i)] for i in indices]\n",
    "    \n",
    "\n",
    "# data = FashionMNIST(resize=(32,32))\n",
    "# data.train"
   ]
  },
  {
   "cell_type": "code",
   "execution_count": 75,
   "id": "2b1853f9",
   "metadata": {},
   "outputs": [],
   "source": [
    "# data.train[0][0].shape # image: 1, 28, 28\n",
    "# data.train[0][1]       # label: 9\n",
    "# len(data.train) # 60,000\n",
    "# count_per_label = {}\n",
    "# for i in range(len(data.train)):\n",
    "#     label = data.train[i][1]\n",
    "#     if label in count_per_label:\n",
    "#         count_per_label[label] += 1\n",
    "#     else: # create new label\n",
    "#         count_per_label[label] = 1\n",
    "# print(count_per_label) # 6000 items for each label from 0 to 9\n",
    "\n",
    "# X_train = torch.cat([data.train[i][0] for i in range(len(data.train))], dim=0)\n",
    "# y_train = torch.cat([torch.Tensor([data.train[i][1]]) for i in range(len(data.train))], dim=0)\n",
    "# print(\"Training:\", X_train.shape, y_train.shape)\n",
    "# X_val = torch.cat([data.val[i][0] for i in range(len(data.val))], dim=0)\n",
    "# y_val = torch.cat([torch.Tensor([data.val[i][1]]) for i in range(len(data.val))], dim=0)\n",
    "# print(\"Validation:\", X_val.shape, y_val.shape)"
   ]
  },
  {
   "cell_type": "code",
   "execution_count": 76,
   "id": "858a352e",
   "metadata": {},
   "outputs": [
    {
     "name": "stdout",
     "output_type": "stream",
     "text": [
      "{'setosa': 0, 'versicolor': 1, 'virginica': 2}\n"
     ]
    }
   ],
   "source": [
    "import pandas as pd\n",
    "\n",
    "path = 'C:/Users/jeanb/Documents/Python Scripts/DiveIntoDL/data/'\n",
    "data = pd.read_csv(path + 'iris.csv')\n",
    "data.shape # 150, 5\n",
    "data.keys() # 'sepal_length', 'sepal_width', 'petal_length', 'petal_width', 'species'\n",
    "features = ['sepal_length', 'sepal_width', 'petal_length', 'petal_width']\n",
    "label = 'species'\n",
    "train_idx = list(range(0, 40)) + list(range(50, 90)) + list(range(100, 140))\n",
    "val_idx = list(range(40, 50)) + list(range(90, 100)) + list(range(140, 150))\n",
    "type(data['sepal_length'][val_idx])\n",
    "\n",
    "# from text labels to id labels\n",
    "label_idx = {}\n",
    "idx = 0\n",
    "for i in range(data.shape[0]):\n",
    "    label_name = data[label][i]\n",
    "    if label_name not in label_idx:\n",
    "        label_idx[label_name] = idx\n",
    "        idx += 1\n",
    "print(label_idx)"
   ]
  },
  {
   "cell_type": "code",
   "execution_count": 78,
   "id": "ef351817",
   "metadata": {},
   "outputs": [],
   "source": [
    "X_train = torch.zeros((len(train_idx), len(features)))\n",
    "y_train = torch.zeros(len(train_idx))\n",
    "\n",
    "X_val = torch.zeros((len(val_idx), len(features)))\n",
    "y_val = torch.zeros(len(val_idx))\n",
    "\n",
    "for i, k in enumerate(features):\n",
    "    X_train[:, i] = torch.tensor(data[k][train_idx].values, dtype=torch.float32)\n",
    "    X_val[:, i] = torch.tensor(data[k][val_idx].values, dtype=torch.float32)\n",
    "\n",
    "\n",
    "for i, j in enumerate(train_idx):\n",
    "    idx = label_idx[ data[label][j] ]\n",
    "    y_train[i] = torch.tensor(idx)\n",
    "\n",
    "for i, j in enumerate(val_idx):\n",
    "    idx = label_idx[ data[label][j] ]\n",
    "    y_val[i] = torch.tensor(idx)\n"
   ]
  },
  {
   "cell_type": "code",
   "execution_count": 79,
   "id": "1a30fbaf",
   "metadata": {},
   "outputs": [
    {
     "name": "stdout",
     "output_type": "stream",
     "text": [
      "Training: torch.Size([120, 4]) torch.Size([120])\n",
      "Evaluation: torch.Size([30, 4]) torch.Size([30])\n"
     ]
    }
   ],
   "source": [
    "print(\"Training:\", X_train.shape, y_train.shape)\n",
    "print(\"Evaluation:\", X_val.shape, y_val.shape)\n"
   ]
  },
  {
   "cell_type": "code",
   "execution_count": 84,
   "id": "481a36aa",
   "metadata": {},
   "outputs": [
    {
     "name": "stdout",
     "output_type": "stream",
     "text": [
      "Depth 1 class 0.0 since y=tensor([0., 0., 0., 0., 0., 0., 0., 0., 0., 0., 0., 0., 0., 0., 0., 0., 0., 0., 0., 0., 0., 0., 0., 0.,\n",
      "        0., 0., 0., 0., 0., 0., 0., 0., 0., 0., 0., 0., 0., 0., 0., 0.])\n",
      "Depth 4 class 1.0 since y=tensor([1., 1., 1., 1., 1., 1., 1., 1., 1., 1., 1., 1., 1., 1., 1., 1., 1., 1.,\n",
      "        1., 1., 1., 1., 1., 1., 1., 1., 1., 1., 1., 1., 1., 1., 1., 1., 1., 1.,\n",
      "        1.])\n",
      "Depth 4 class 2.0 since y=tensor([2.])\n",
      "Depth 4 class 2.0 since y=tensor([2., 2., 2.])\n",
      "Depth 4 class 1.0 since y=tensor([1.])\n",
      "Depth 4 class 2.0 since y=tensor([2., 2.])\n",
      "Depth 3 class 2.0 since y=tensor([2., 2., 2., 2., 2., 2., 2., 2., 2., 2., 2., 2., 2., 2., 2., 2., 2., 2.,\n",
      "        2., 2., 2., 2., 2., 2., 2., 2., 2., 2., 2., 2., 2., 2., 2.])\n",
      "Decision Tree trained with max depth 4\n"
     ]
    }
   ],
   "source": [
    "class DecisionTreeNode:\n",
    "    def __init__(self, depth=0, max_depth=None):\n",
    "        self.depth = depth\n",
    "        self.max_depth = max_depth\n",
    "        self.feature_index = None\n",
    "        self.threshold = None\n",
    "        self.left = None  # Left child\n",
    "        self.right = None  # Right child\n",
    "        self.is_leaf = False\n",
    "        self.predicted_class = None\n",
    "\n",
    "    def fit(self, X, y):\n",
    "        # If all labels are the same, make a leaf node\n",
    "        if y.unique().numel() == 1:\n",
    "            self.is_leaf = True\n",
    "            self.predicted_class = y[0].item()\n",
    "            print(f\"Depth {self.depth} class {self.predicted_class} since y={y}\")\n",
    "            return\n",
    "\n",
    "        # Check if maximum depth is reached\n",
    "        if self.max_depth is not None and self.depth >= self.max_depth:\n",
    "            self.is_leaf = True\n",
    "            self.predicted_class = y.mode()[0].item() # majority vote among the y\n",
    "            return\n",
    "\n",
    "        # Find the best split\n",
    "        best_gini = float('inf')\n",
    "        num_features = X.shape[1]\n",
    "        for feature in range(num_features):\n",
    "            thresholds = torch.unique(X[:, feature])\n",
    "            for threshold in thresholds:\n",
    "                left_mask = X[:, feature] <= threshold\n",
    "                right_mask = X[:, feature] > threshold\n",
    "                y_left = y[left_mask]\n",
    "                y_right = y[right_mask]\n",
    "                if y_left.numel() == 0 or y_right.numel() == 0:\n",
    "                    continue # skip if this does not split the dataset\n",
    "                gini = self._gini(y_left, y_right)\n",
    "                if gini < best_gini:\n",
    "                    best_gini = gini\n",
    "                    self.feature_index = feature\n",
    "                    self.threshold = threshold.item()\n",
    "                    best_left_mask = left_mask\n",
    "                    best_right_mask = right_mask\n",
    "\n",
    "        # If no valid split is found, make a leaf node\n",
    "        if self.feature_index is None:\n",
    "            self.is_leaf = True\n",
    "            self.predicted_class = y.mode()[0].item()\n",
    "            return\n",
    "\n",
    "        # Recursively build the left and right subtrees\n",
    "        self.left = DecisionTreeNode(\n",
    "            depth=self.depth + 1, max_depth=self.max_depth)\n",
    "        self.right = DecisionTreeNode(\n",
    "            depth=self.depth + 1, max_depth=self.max_depth)\n",
    "        self.left.fit(X[best_left_mask], y[best_left_mask])\n",
    "        self.right.fit(X[best_right_mask], y[best_right_mask])\n",
    "\n",
    "    def predict(self, X):\n",
    "        if self.is_leaf:\n",
    "            return torch.full((X.shape[0],), self.predicted_class, dtype=torch.long)\n",
    "        else:\n",
    "            left_mask = X[:, self.feature_index] <= self.threshold\n",
    "            right_mask = X[:, self.feature_index] > self.threshold\n",
    "            y_pred = torch.empty(X.shape[0], dtype=torch.long)\n",
    "            y_pred[left_mask] = self.left.predict(X[left_mask])\n",
    "            y_pred[right_mask] = self.right.predict(X[right_mask])\n",
    "            return y_pred\n",
    "\n",
    "    def _gini(self, y_left, y_right):\n",
    "        # Compute Gini impurity\n",
    "        def gini_impurity(group):\n",
    "            if group.numel() == 0:\n",
    "                return 0.0\n",
    "            classes, counts = torch.unique(group, return_counts=True)\n",
    "            probabilities = counts.float() / counts.sum()\n",
    "            return 1.0 - torch.sum(probabilities ** 2).item()\n",
    "\n",
    "        total_samples = y_left.numel() + y_right.numel()\n",
    "        gini_left = gini_impurity(y_left)\n",
    "        gini_right = gini_impurity(y_right)\n",
    "        weighted_gini = (\n",
    "            (y_left.numel() / total_samples) * gini_left\n",
    "            + (y_right.numel() / total_samples) * gini_right\n",
    "        )\n",
    "        return weighted_gini\n",
    "    \n",
    "    \n",
    "# Initialize the Decision Tree with a maximum depth\n",
    "max_depth = 4  # You can adjust this value, but since the dataset is small it could overfit easily\n",
    "decision_tree = DecisionTreeNode(max_depth=max_depth)\n",
    "\n",
    "# Train the Decision Tree\n",
    "decision_tree.fit(X_train, y_train)\n",
    "\n",
    "print(f\"Decision Tree trained with max depth {max_depth}\")"
   ]
  },
  {
   "cell_type": "code",
   "execution_count": 85,
   "id": "24838409",
   "metadata": {},
   "outputs": [
    {
     "name": "stdout",
     "output_type": "stream",
     "text": [
      "Training Accuracy: 99.17%\n"
     ]
    }
   ],
   "source": [
    "# Make predictions on the training set\n",
    "predictions = decision_tree.predict(X_train)\n",
    "\n",
    "# Calculate accuracy\n",
    "accuracy = (predictions == y_train).float().mean()\n",
    "print(f\"Training Accuracy: {accuracy.item() * 100:.2f}%\")"
   ]
  },
  {
   "cell_type": "code",
   "execution_count": 86,
   "id": "454f16da",
   "metadata": {},
   "outputs": [
    {
     "name": "stdout",
     "output_type": "stream",
     "text": [
      "Test Accuracy: 100.00%\n"
     ]
    }
   ],
   "source": [
    "# Make predictions on the test set\n",
    "predictions = decision_tree.predict(X_val)\n",
    "\n",
    "# Calculate accuracy\n",
    "accuracy = (predictions == y_val).float().mean()\n",
    "print(f\"Test Accuracy: {accuracy.item() * 100:.2f}%\")"
   ]
  },
  {
   "cell_type": "code",
   "execution_count": 87,
   "id": "59d52ce4",
   "metadata": {},
   "outputs": [
    {
     "name": "stdout",
     "output_type": "stream",
     "text": [
      "0 2 None\n",
      "1 None 0.0\n",
      "1 3 None\n",
      "2 2 None\n",
      "3 3 None\n",
      "4 None 1.0\n",
      "4 None 2.0\n",
      "3 3 None\n",
      "4 None 2.0\n",
      "4 None 1.0\n",
      "2 2 None\n",
      "3 0 None\n",
      "4 None 1.0\n",
      "4 None 2.0\n",
      "3 None 2.0\n",
      "15 nodes in the tree and 8 leaves\n"
     ]
    }
   ],
   "source": [
    "root = decision_tree\n",
    "# count nodes\n",
    "def dfs(node, nb=0, nb_leaves=0):\n",
    "    print(node.depth, node.feature_index, node.predicted_class)\n",
    "    if node.is_leaf:\n",
    "        return 1, nb_leaves + 1\n",
    "    left_nodes, left_leaves = dfs(node.left)\n",
    "    right_nodes, right_leaves = dfs(node.right)\n",
    "    return nb + left_nodes + right_nodes + 1, nb_leaves + left_leaves + right_leaves\n",
    "\n",
    "nb_nodes, nb_leaves = dfs(root, 0, 0)\n",
    "print(nb_nodes, \"nodes in the tree and\", nb_leaves, \"leaves\")\n",
    "    "
   ]
  }
 ],
 "metadata": {
  "kernelspec": {
   "display_name": "dino-env",
   "language": "python",
   "name": "python3"
  },
  "language_info": {
   "codemirror_mode": {
    "name": "ipython",
    "version": 3
   },
   "file_extension": ".py",
   "mimetype": "text/x-python",
   "name": "python",
   "nbconvert_exporter": "python",
   "pygments_lexer": "ipython3",
   "version": "3.11.0"
  }
 },
 "nbformat": 4,
 "nbformat_minor": 5
}
